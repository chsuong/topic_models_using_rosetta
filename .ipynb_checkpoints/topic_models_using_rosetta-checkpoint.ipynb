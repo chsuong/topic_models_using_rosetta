{
 "cells": [
  {
   "cell_type": "markdown",
   "metadata": {},
   "source": [
    "#(Easy) High performance text processing in Machine Learning*"
   ]
  },
  {
   "cell_type": "markdown",
   "metadata": {},
   "source": [
    "#[Rosetta*](https://github.com/columbia-applied-data-science/rosetta) \n",
    "\n",
    "##Tools for data science with a focus on text processing.\n",
    "\n",
    "* Focuses on \"medium data\", i.e. data too big to fit into memory but too small to necessitate the use of a cluster.\n",
    "* Integrates with existing scientific Python stack as well as select outside tools.\n",
    "\n",
    "## Tools and utilities \n",
    "\n",
    "### `cmd` \n",
    "* Unix-like command line utilities.  Filters (read from stdin/write to stdout) for files\n",
    "\n",
    "### `parallel` \n",
    "* Wrappers for Python multiprocessing that add ease of use\n",
    "* Memory-friendly multiprocessing\n",
    "\n",
    "### `text`\n",
    "* Stream text from disk to formats used in common ML processes\n",
    "    * file, database, and generic streamers\n",
    "* Write processed text to sparse formats\n",
    "* Helpers for ML tools (e.g. Vowpal Wabbit, Gensim, etc...)\n",
    "* Other general utilities\n",
    "\n",
    "### `workflow`\n",
    "* High-level wrappers that have helped with our workflow and provide additional examples of code use\n",
    "\n",
    "### `modeling`\n",
    "* General ML modeling utilities\n"
   ]
  },
  {
   "cell_type": "markdown",
   "metadata": {},
   "source": [
    "#Lets begin"
   ]
  },
  {
   "cell_type": "markdown",
   "metadata": {},
   "source": [
    "###For the purpose of this tutorial, we will be working with body of about 5 declassified government embassy cables.\n"
   ]
  },
  {
   "cell_type": "code",
   "execution_count": 1,
   "metadata": {},
   "outputs": [],
   "source": [
    "import os\n",
    "import pandas as pd"
   ]
  },
  {
   "cell_type": "markdown",
   "metadata": {},
   "source": [
    "#Text Processors"
   ]
  },
  {
   "cell_type": "markdown",
   "metadata": {},
   "source": [
    "##Streamers\n",
    "* Data in many text processing problems comes in the form of \n",
    "    * flat files\n",
    "    * repeated calls to an DB or API\n",
    "    * some 'online' stream\n",
    "* A lot of these can be handled streaming the data either from disk, DB, API minimizing CPU use\n",
    "* In addition, a lot of streaming is embarassingly parallel so can be easily scaled\n"
   ]
  },
  {
   "cell_type": "code",
   "execution_count": 2,
   "metadata": {},
   "outputs": [],
   "source": [
    "#all you realy need to know is that CABLES is the directory where the data (or cables)\n",
    "#are stored on your machine\n",
    "DATA = '/Users/clarahsuong/processing/topic_model_general/data'\n",
    "RAW = os.path.join(DATA, 'raw')\n",
    "PROCESSED = os.path.join(DATA, 'processed')\n",
    "SPARSE = os.path.join(DATA, 'sparse')\n",
    "\n",
    "sfile_path = os.path.join(SPARSE, 'doc_tokens.vw')\n",
    "filtered_sfile_path = os.path.join(PROCESSED, 'doc_tokens-filtered.vw')\n",
    "sff_path = os.path.join(PROCESSED, 'sff.pkl')\n"
   ]
  },
  {
   "cell_type": "markdown",
   "metadata": {},
   "source": [
    "## Streaming: given a collection of objects streaming is the paradigm of processing these objects one at a time in memory, extracting relevant information, writing the information, and discarding the original object \n",
    "\n",
    "###Note: after a streaming process is complete, the original collection should no longer be needed for the analysis at hand"
   ]
  },
  {
   "cell_type": "markdown",
   "metadata": {},
   "source": [
    "* Lets write a simple file streamer"
   ]
  },
  {
   "cell_type": "code",
   "execution_count": 3,
   "metadata": {},
   "outputs": [],
   "source": [
    "#filefilter is a module which helps with basic file/dir functions, such as\n",
    "#retrieving all paths from a given directory and it's subdir's\n",
    "from rosetta.text import filefilter"
   ]
  },
  {
   "cell_type": "code",
   "execution_count": 4,
   "metadata": {},
   "outputs": [],
   "source": [
    "def simple_file_streamer(base_path):\n",
    "    paths = filefilter.get_paths(base_path, get_iter=True)\n",
    "    for p in paths:\n",
    "        with open(p) as f:\n",
    "            text = f.read()\n",
    "            yield(text)"
   ]
  },
  {
   "cell_type": "markdown",
   "metadata": {},
   "source": [
    "###In case you haven't worked much with iterators explicitely, here is a small refresher... \n",
    "* For those familiar with generator functions, or iterators, you'll notice that this is exactly what we mean by \"streamer,\" i.e. anything that retrieves files or extracts information from therein and has a .next() method\n",
    "* python docs have a short intro about generators (http://docs.python.org/2/tutorial/classes.html#generators)"
   ]
  },
  {
   "cell_type": "code",
   "execution_count": 5,
   "metadata": {},
   "outputs": [],
   "source": [
    "def my_iter(N):\n",
    "    i=0\n",
    "    while True:\n",
    "        if i == N:\n",
    "            raise StopIteration\n",
    "        else:\n",
    "            yield i\n",
    "        i += 1\n",
    "                \n",
    "        "
   ]
  },
  {
   "cell_type": "code",
   "execution_count": 6,
   "metadata": {},
   "outputs": [],
   "source": [
    "mi = my_iter(5)\n",
    "\n"
   ]
  },
  {
   "cell_type": "code",
   "execution_count": 7,
   "metadata": {},
   "outputs": [
    {
     "data": {
      "text/plain": [
       "0"
      ]
     },
     "execution_count": 7,
     "metadata": {},
     "output_type": "execute_result"
    }
   ],
   "source": [
    "mi.__next__()"
   ]
  },
  {
   "cell_type": "code",
   "execution_count": 8,
   "metadata": {},
   "outputs": [
    {
     "name": "stdout",
     "output_type": "stream",
     "text": [
      "0\n",
      "1\n",
      "2\n",
      "3\n",
      "4\n"
     ]
    },
    {
     "name": "stderr",
     "output_type": "stream",
     "text": [
      "/anaconda3/lib/python3.6/site-packages/ipykernel_launcher.py:3: DeprecationWarning: generator 'my_iter' raised StopIteration\n",
      "  This is separate from the ipykernel package so we can avoid doing imports until\n"
     ]
    }
   ],
   "source": [
    "#note the raised StopIteration; lets see how a for look handles this\n",
    "\n",
    "for i in my_iter(5):\n",
    "    print(i)\n",
    "    "
   ]
  },
  {
   "cell_type": "markdown",
   "metadata": {},
   "source": [
    "###so even if you have not thought about iterators, you have been using them throughout \n",
    "###now back to our streamer"
   ]
  },
  {
   "cell_type": "code",
   "execution_count": 9,
   "metadata": {},
   "outputs": [],
   "source": [
    "simple_stream = simple_file_streamer(RAW)"
   ]
  },
  {
   "cell_type": "code",
   "execution_count": 10,
   "metadata": {},
   "outputs": [
    {
     "data": {
      "text/plain": [
       "generator"
      ]
     },
     "execution_count": 10,
     "metadata": {},
     "output_type": "execute_result"
    }
   ],
   "source": [
    "#lets look at what this object is\n",
    "type(simple_stream)"
   ]
  },
  {
   "cell_type": "markdown",
   "metadata": {},
   "source": [
    "###Note: this is the first time anything is read into memory"
   ]
  },
  {
   "cell_type": "code",
   "execution_count": 11,
   "metadata": {},
   "outputs": [
    {
     "data": {
      "text/plain": [
       "[\"THE FOLLOWING ARE THE REMARKS MADE BY AMBASSADOR ATHERTON ON\\\\nHIS ARRIVAL AT RABAT AIRPORT MONDAY AFTERNOON, OCTOBER 2:\\\\nFIRST OF ALL, I AM VERY PLEASED INDEED TO RETURN TO MOROCCO.\\\\nIT HAS BEEN MUCH TOO LONG SINCE MY LAST VISIT HERE. I AM PARTI-\\\\nCULARLY PLEASED THAT I AM ABLE TO INTRODUCE MRS. ATHERTON TO\\\\nMOROCCO.\\\\nI AM HERE BECAUSE PRESIDENT CARTER AND SECRETARY VANCE ASKED\\\\nTHAT I COME ON THEIR BEHALF TO DISCUSS WITH HIS MAJESTY THE\\\\nIMPORTANT RECENT DEVELOPMENTS WITH REGARD TO THE MIDDLE EAST\\\\nSITUATION AND, IN PARTICULAR, THE AGREEMENTS THAT THAT WERE\\\\nCONCLUDED AT THE CAMP DAVID SUMMIT TWO WEEKS AGO.\\\\nMY GOVERNMENT ATTACHES PARTICULAR IMPORTANCE TO THESE\\\\nCONSULTATIONS WITH HIS MAJESTY GIVEN THE LONG HISTORY OF\\\\nCLOSE AND FRIENDLY RELATIONS AND MUTUALLY BENEFICIAL RELA-\\\\nTIONS BETWEEN OUR TWO COUNTRIES AND THE TRADITION OF CLOSE\\\\nCONSULTATIONS BETWEEN US.\\\\nI WILL EXPLAIN TO HIS MAJESTY THE IMPORTANCE THAT MY\\\\nGOVERNMENT ATTACHES TO THE CAMP DAVID AGREEMENTS AS A FRAME-\\\\nWORK FOR PEACE IN THE MIDDLE EAST FOR ALL OF THE PEOPLES,\\\\nAND ALL OF THE STATES IN THAT AREA - A COMPREHENSIVE PEACE\\\\nIN THE MIDDLE EAST.\\\\nI AM VERY GRATEFUL TO HIS MAJESTY FOR RECEIVING ME AND\\\\nI LOOK FORWARD TO THE HONOR OF MEETING WITH HIS MAJESTY\\\\nTOMORROW.\\\\nQ. - - - - (INAUDIBLE) RECENT CONSULTATIONS WITH OTHER\\\\nCOUNTRIES RE CAMP DAVID?\\\\nA. THEY HAVE BEEN USEFUL. THIS IS A PERIOD WHEN MANY\\\\nGOVERNMENTS ARE REFLECING ON THESE AGREEMENTS, THE OPPORTUNITIES\\\\nTHEY OPEN UP, AND WE HAVE CONSIDERED IT USEFUL AT THIS TIME TO BE\\\\nAVAILABLE TO ANSWER QUESTIONS AND TO EXPLAIN OUR POLICY.\\\\nAND I CONSIDER IT PARTICULARLY USEFUL, MY GOVERNMENT\\\\nCONSIDERS IT PARTICULARLY USEFUL, TO BE AVAILABLE TO HELP EXPLAIN\\\\nOUR POLICY AND ANSWER QUESTIONS IN THIS WAY AT THIS TIME.\\\\nQ. ARE YOU CARRYING A LETTER FROM PRESIDENT CARTER\\\\nTO HIS MAJESTY?\\\\nA. I HAVE NOT BEEN CARRYING FORMAL MESSAGES ON THIS\\\\nTRIP. I WILL OF COURSE CONVEY PRESIDENT CARTER'S BEST WISHES\\\\nAND RESPECTS TO HIS MAJESTY WHEN I MEET WITH HIM.ANDERSON\\\\n\"]"
      ]
     },
     "execution_count": 11,
     "metadata": {},
     "output_type": "execute_result"
    }
   ],
   "source": [
    "#lets see what the .next() yields (and splitlines to make it more readable)\n",
    "simple_stream.__next__().splitlines()"
   ]
  },
  {
   "cell_type": "markdown",
   "metadata": {},
   "source": [
    "\n",
    "* Now since our end goal is to build a topic model we probably want to have a more fexible streamer, i.e. one that can return file ids, text or tokens (based on some predefined tokenizer)\n",
    "    * luckily we have one such streamer written"
   ]
  },
  {
   "cell_type": "code",
   "execution_count": 12,
   "metadata": {},
   "outputs": [],
   "source": [
    "from rosetta import TextFileStreamer, TokenizerBasic\n",
    "text_streamer = TextFileStreamer(text_base_path=RAW, file_type='*', \n",
    "                                           tokenizer=TokenizerBasic())\n"
   ]
  },
  {
   "cell_type": "code",
   "execution_count": 13,
   "metadata": {},
   "outputs": [],
   "source": [
    "from rosetta.text import streamers"
   ]
  },
  {
   "cell_type": "code",
   "execution_count": 14,
   "metadata": {},
   "outputs": [],
   "source": [
    "stream = text_streamer.info_stream()"
   ]
  },
  {
   "cell_type": "code",
   "execution_count": 15,
   "metadata": {},
   "outputs": [
    {
     "data": {
      "text/plain": [
       "{'text': \"THE FOLLOWING ARE THE REMARKS MADE BY AMBASSADOR ATHERTON ON\\\\nHIS ARRIVAL AT RABAT AIRPORT MONDAY AFTERNOON, OCTOBER 2:\\\\nFIRST OF ALL, I AM VERY PLEASED INDEED TO RETURN TO MOROCCO.\\\\nIT HAS BEEN MUCH TOO LONG SINCE MY LAST VISIT HERE. I AM PARTI-\\\\nCULARLY PLEASED THAT I AM ABLE TO INTRODUCE MRS. ATHERTON TO\\\\nMOROCCO.\\\\nI AM HERE BECAUSE PRESIDENT CARTER AND SECRETARY VANCE ASKED\\\\nTHAT I COME ON THEIR BEHALF TO DISCUSS WITH HIS MAJESTY THE\\\\nIMPORTANT RECENT DEVELOPMENTS WITH REGARD TO THE MIDDLE EAST\\\\nSITUATION AND, IN PARTICULAR, THE AGREEMENTS THAT THAT WERE\\\\nCONCLUDED AT THE CAMP DAVID SUMMIT TWO WEEKS AGO.\\\\nMY GOVERNMENT ATTACHES PARTICULAR IMPORTANCE TO THESE\\\\nCONSULTATIONS WITH HIS MAJESTY GIVEN THE LONG HISTORY OF\\\\nCLOSE AND FRIENDLY RELATIONS AND MUTUALLY BENEFICIAL RELA-\\\\nTIONS BETWEEN OUR TWO COUNTRIES AND THE TRADITION OF CLOSE\\\\nCONSULTATIONS BETWEEN US.\\\\nI WILL EXPLAIN TO HIS MAJESTY THE IMPORTANCE THAT MY\\\\nGOVERNMENT ATTACHES TO THE CAMP DAVID AGREEMENTS AS A FRAME-\\\\nWORK FOR PEACE IN THE MIDDLE EAST FOR ALL OF THE PEOPLES,\\\\nAND ALL OF THE STATES IN THAT AREA - A COMPREHENSIVE PEACE\\\\nIN THE MIDDLE EAST.\\\\nI AM VERY GRATEFUL TO HIS MAJESTY FOR RECEIVING ME AND\\\\nI LOOK FORWARD TO THE HONOR OF MEETING WITH HIS MAJESTY\\\\nTOMORROW.\\\\nQ. - - - - (INAUDIBLE) RECENT CONSULTATIONS WITH OTHER\\\\nCOUNTRIES RE CAMP DAVID?\\\\nA. THEY HAVE BEEN USEFUL. THIS IS A PERIOD WHEN MANY\\\\nGOVERNMENTS ARE REFLECING ON THESE AGREEMENTS, THE OPPORTUNITIES\\\\nTHEY OPEN UP, AND WE HAVE CONSIDERED IT USEFUL AT THIS TIME TO BE\\\\nAVAILABLE TO ANSWER QUESTIONS AND TO EXPLAIN OUR POLICY.\\\\nAND I CONSIDER IT PARTICULARLY USEFUL, MY GOVERNMENT\\\\nCONSIDERS IT PARTICULARLY USEFUL, TO BE AVAILABLE TO HELP EXPLAIN\\\\nOUR POLICY AND ANSWER QUESTIONS IN THIS WAY AT THIS TIME.\\\\nQ. ARE YOU CARRYING A LETTER FROM PRESIDENT CARTER\\\\nTO HIS MAJESTY?\\\\nA. I HAVE NOT BEEN CARRYING FORMAL MESSAGES ON THIS\\\\nTRIP. I WILL OF COURSE CONVEY PRESIDENT CARTER'S BEST WISHES\\\\nAND RESPECTS TO HIS MAJESTY WHEN I MEET WITH HIM.ANDERSON\\\\n\",\n",
       " 'cached_path': '/Users/clarahsuong/processing/topic_model_general/data/raw/sample_cable_body_1978RABAT06086.txt',\n",
       " 'doc_id': 'sample_cable_body_1978RABAT06086',\n",
       " 'mtime': 1566227827.877441,\n",
       " 'atime': 1566410869.2562437,\n",
       " 'size': 2007,\n",
       " 'tokens': ['following',\n",
       "  'remarks',\n",
       "  'made',\n",
       "  'ambassador',\n",
       "  'atherton',\n",
       "  'arrival',\n",
       "  'rabat',\n",
       "  'airport',\n",
       "  'monday',\n",
       "  'afternoon',\n",
       "  'october',\n",
       "  'very',\n",
       "  'pleased',\n",
       "  'indeed',\n",
       "  'return',\n",
       "  'much',\n",
       "  'long',\n",
       "  'last',\n",
       "  'visit',\n",
       "  'here',\n",
       "  'parti',\n",
       "  'pleased',\n",
       "  'introduce',\n",
       "  'mrs',\n",
       "  'atherton',\n",
       "  'here',\n",
       "  'president',\n",
       "  'carter',\n",
       "  'secretary',\n",
       "  'vance',\n",
       "  'come',\n",
       "  'behalf',\n",
       "  'discuss',\n",
       "  'majesty',\n",
       "  'recent',\n",
       "  'developments',\n",
       "  'regard',\n",
       "  'middle',\n",
       "  'particular',\n",
       "  'agreements',\n",
       "  'camp',\n",
       "  'david',\n",
       "  'summit',\n",
       "  'two',\n",
       "  'weeks',\n",
       "  'government',\n",
       "  'attaches',\n",
       "  'particular',\n",
       "  'importance',\n",
       "  'majesty',\n",
       "  'given',\n",
       "  'long',\n",
       "  'history',\n",
       "  'friendly',\n",
       "  'relations',\n",
       "  'mutually',\n",
       "  'beneficial',\n",
       "  'rela',\n",
       "  'between',\n",
       "  'two',\n",
       "  'countries',\n",
       "  'tradition',\n",
       "  'between',\n",
       "  'explain',\n",
       "  'majesty',\n",
       "  'importance',\n",
       "  'attaches',\n",
       "  'camp',\n",
       "  'david',\n",
       "  'agreements',\n",
       "  'frame',\n",
       "  'peace',\n",
       "  'middle',\n",
       "  'east',\n",
       "  'peoples',\n",
       "  'states',\n",
       "  'area',\n",
       "  'comprehensive',\n",
       "  'middle',\n",
       "  'very',\n",
       "  'grateful',\n",
       "  'majesty',\n",
       "  'receiving',\n",
       "  'look',\n",
       "  'forward',\n",
       "  'honor',\n",
       "  'meeting',\n",
       "  'inaudible',\n",
       "  'recent',\n",
       "  'consultations',\n",
       "  're',\n",
       "  'camp',\n",
       "  'david',\n",
       "  'useful',\n",
       "  'period',\n",
       "  'reflecing',\n",
       "  'agreements',\n",
       "  'open',\n",
       "  'up',\n",
       "  'considered',\n",
       "  'useful',\n",
       "  'time',\n",
       "  'answer',\n",
       "  'questions',\n",
       "  'explain',\n",
       "  'consider',\n",
       "  'particularly',\n",
       "  'useful',\n",
       "  'particularly',\n",
       "  'useful',\n",
       "  'available',\n",
       "  'help',\n",
       "  'policy',\n",
       "  'answer',\n",
       "  'questions',\n",
       "  'way',\n",
       "  'carrying',\n",
       "  'letter',\n",
       "  'president',\n",
       "  'majesty',\n",
       "  'carrying',\n",
       "  'formal',\n",
       "  'messages',\n",
       "  'course',\n",
       "  'convey',\n",
       "  'president',\n",
       "  \"carter's\",\n",
       "  'best',\n",
       "  'respects',\n",
       "  'majesty',\n",
       "  'meet']}"
      ]
     },
     "execution_count": 15,
     "metadata": {},
     "output_type": "execute_result"
    }
   ],
   "source": [
    "stream.__next__()"
   ]
  },
  {
   "cell_type": "markdown",
   "metadata": {},
   "source": [
    "* Note: you can pass a tokenizer function to TextFileStreamer(), i.e. any function that takes a string of text and returns a list of strings (the \"tokens\")\n",
    "    * We have written a basic tokenizer function and class to add functionality and because the nltk.word_tokenize() was slow\n",
    "* It also has a few other nice options such as shuffle, file_type, etc and a bunch of methods"
   ]
  },
  {
   "cell_type": "code",
   "execution_count": 16,
   "metadata": {},
   "outputs": [],
   "source": [
    "text = stream.__next__()['text']"
   ]
  },
  {
   "cell_type": "code",
   "execution_count": 17,
   "metadata": {},
   "outputs": [
    {
     "name": "stdout",
     "output_type": "stream",
     "text": [
      "1. EMBOFF TODAY DISCUSSED MEXICAN PLANS FOR APRIL MEETING\n",
      "ON UNDOCUMENTED MIGRANTS WITH AMBASSADOR ANTONIO GONZALEZ DE\n",
      "LEON, NEW FONSEC DIRECTOR IN CHIEF FOR SPECIAL INTERNATIONAL\n",
      "AFFAIRS AND STUDIES. AS WE HAD PREVIOUSLY LEARNED, GONZALEZ\n",
      "CONFIRMED THAT UNDERSECRETARY CASTANEDA AND HE WERE TAKING\n",
      "OVER RESPONSIBILITY FOR UNDOCUMENTED MIGRANT PROBLEM FROM\n",
      "GALLASTEGUI AND AMBASSADOR CASTRO Y CASTRO RESPECTIVELY.\n",
      "GONZALEZ SAID THAT HE EXPECTED TO ATTEND PLENARY MEETING IN\n",
      "WASHINGTON FOLLOWING LOS NEGOATIONS IN NEW YORK AND TO\n",
      "OUR SURPRISE HE ADDED THAT CASTANEDA WOULD CHAIR THE\n",
      "EMXICAN DELEGATION TO THE MIGRANT MEETING.\n",
      "2. GONZALEZ ASKED HOW WE VIEWED THE WASHINGTON MEETING AND\n",
      "WHAT WE EXPECTED TO COME OUT OF IT, AND EMBOFF GAVE HIM NOW-\n",
      "STANDARD LINE EMPHASIZING OUR HOPE THAT CONFRONTATION AND\n",
      "POSTURING COULD BE AVOIDED. GONZALEZ SAID HE SHARED THIS\n",
      "HOPE AND THOUGHT THAT PUBLIC RECRIMINATIONS COULD BE LEFT\n",
      "TO EXCELSIOR AND INS OFFICIALS. NEVERTHELESS, HIS INITIAL\n",
      "IMPRESSION OF THE PROBLEM WAS THAT IT HAD BEEN TREATED IN\n",
      "THE PAST TOO MUCH AS AN ADMINISTRATIVE MATTER THAT COULD\n",
      "SOMEHOW BE REGULATED OR MANIPULATED AWAY, RATHER THAN\n",
      "AS A FUNCTION OF STRUCTURAL PROBLEMS BETWEEN OUR TWO\n",
      "COUNTRIES WHICH WERE UNLILKELY TO DISAPPEAR OVERNIGHT.\n",
      "EMBOFF SAID THERE WERE THOSE ON U.S. COMMISSION WHO AGREED\n",
      "WITH THIS VIEW, THAT ESSENTIAL PROBLEM WAS IMBALANCE\n",
      "BETWEEN BACKWARD MEXICAN COUNTRYSIDE AND ALLURING JOB\n",
      "OPPORTUNITIES IN THE U.S. FOR THIS REASON, WE HOPED THAT\n",
      "THIS FIRST MEETING OF COMMISSIONS COULD LAY GROUNDWORK FOR\n",
      "EVENTUAL COLLABORATION TO DEAL WITH PROBLEMS UNDERLYING\n",
      "ILLEGAL MIGRATION--AND NOT SET A HABIT OF ANTAGONISM.\n",
      "3. EMBOFF STRESSED THAT U.S. COMMISSION WOULD NOT GO\n",
      "INTO MEETING WITH UNREALISTIC DEMANDS FOR MEXICAN ACTION\n",
      "TO HALT FLOW OF ILLEGAL MIGRANTS. TO THE CONTRARY,\n",
      "EMBOFF SAID HE EXPECTED U.S. SIDE TO FOCUS ATTENTION ON\n",
      "\"ACHIEVABLE\"SHORT-TERM MEASURES AND PROJECTS WHICH BOTH\n",
      "SIDES MIGHT VIEW AS BENEFICIAL TO THEIR INTERESTS, NON-\n",
      "CONTROVERSIAL, AND HELPFUL IN ESTABLISHING A HABIT OF CO-\n",
      "OPERATION. EXCHANGES OF DATA AND INFORMATION AND\n",
      "COOPERATION IN DEALING WITH \"COYOTES\" WERE OFFERED AS POSSIBLE\n",
      "EXAMPLES. CONZALEZ DE LEON SAID THAT THIS APPROACH HAD A\n",
      "GREAT DEAL OF APPEAL FOR HIM, AND HE THOUGHT THAT\n",
      "MEXICO WOULD WELCOME THE OPPORTUNITY TO DISCUSS A LIMITED\n",
      "PROGRAM OF TWO-WAY COOPERATION.\n",
      "4. GONZALEZ SAID THAT HE AND CASTANEDA HAD ONLY BEGUN\n",
      "TO DIG INTO THIS NEW AREA OF RESPONSIBILITY AND DID NOT\n",
      "YET HAVE A FEEL FOR VIEWS AMONG OTHER MEXICAN COMMISSION\n",
      "MEMBERS. NEVERTHELESS, HE BELIVED IT WOULD BE POSSIBLE\n",
      "TO ACHIEVE A SPIRIT OF COLLABORATION AND AN ATMOSPHERE OF\n",
      "INFORMALITY IF MEMBERS OF U.S. COMMISSION RECOGNIZE THAT\n",
      "IMMIGRATION PROBLEM \"CUT BOTH WAYS.\"\n",
      "5. COMMENT: AS WITH FONSEC GARCIA ROBLES' COMMENTS TO\n",
      "AMBASSADOR JOVA YESTERDAY (REFTEL), WE ARE ENCOURAGED BY\n",
      "SIGNS THAT THE \"NEW TEAM\" AT FONSEC WANTS TO GET\n",
      "COMMISSION DIALOGUE STARTED ON THE RIGHT FOOT. NEVERTHELESS,\n",
      "REFERENCES TO THE NEED FOR A NEW LOOK AT\"STRUCTURAL\"\n",
      "PROBLEMS BETWEEN OUR TWO COUNTRIES HAVE NEGATIVE AS WELL\n",
      "AS POSITIVE IMPLICATIONS, AND WE HOPE THEY DO NOT HERALD\n",
      "THE INTRUSION OF NIEO RHETORIC INTO THE MIGRANT LABOR CONTEXT.\n",
      "JOVA\n",
      "\n"
     ]
    }
   ],
   "source": [
    "print(text)"
   ]
  },
  {
   "cell_type": "code",
   "execution_count": 18,
   "metadata": {},
   "outputs": [
    {
     "data": {
      "text/plain": [
       "['emboff',\n",
       " 'today',\n",
       " 'discussed',\n",
       " 'mexican',\n",
       " 'plans',\n",
       " 'april',\n",
       " 'meeting',\n",
       " 'undocumented',\n",
       " 'migrants',\n",
       " 'ambassador',\n",
       " 'antonio',\n",
       " 'gonzalez',\n",
       " 'de',\n",
       " 'leon',\n",
       " 'new',\n",
       " 'fonsec',\n",
       " 'director',\n",
       " 'chief',\n",
       " 'special',\n",
       " 'international',\n",
       " 'affairs',\n",
       " 'studies',\n",
       " 'previously',\n",
       " 'learned',\n",
       " 'gonzalez',\n",
       " 'confirmed',\n",
       " 'undersecretary',\n",
       " 'castaneda',\n",
       " 'taking',\n",
       " 'over',\n",
       " 'responsibility',\n",
       " 'undocumented',\n",
       " 'migrant',\n",
       " 'problem',\n",
       " 'gallastegui',\n",
       " 'ambassador',\n",
       " 'castro',\n",
       " 'castro',\n",
       " 'respectively',\n",
       " 'gonzalez',\n",
       " 'expected',\n",
       " 'attend',\n",
       " 'plenary',\n",
       " 'meeting',\n",
       " 'washington',\n",
       " 'following',\n",
       " 'los',\n",
       " 'negoations',\n",
       " 'new',\n",
       " 'york',\n",
       " 'surprise',\n",
       " 'added',\n",
       " 'castaneda',\n",
       " 'chair',\n",
       " 'emxican',\n",
       " 'delegation',\n",
       " 'migrant',\n",
       " 'meeting',\n",
       " 'gonzalez',\n",
       " 'asked',\n",
       " 'viewed',\n",
       " 'washington',\n",
       " 'meeting',\n",
       " 'expected',\n",
       " 'come',\n",
       " 'out',\n",
       " 'emboff',\n",
       " 'gave',\n",
       " 'now',\n",
       " 'standard',\n",
       " 'line',\n",
       " 'emphasizing',\n",
       " 'hope',\n",
       " 'confrontation',\n",
       " 'posturing',\n",
       " 'avoided',\n",
       " 'gonzalez',\n",
       " 'shared',\n",
       " 'hope',\n",
       " 'thought',\n",
       " 'public',\n",
       " 'recriminations',\n",
       " 'left',\n",
       " 'excelsior',\n",
       " 'ins',\n",
       " 'officials',\n",
       " 'nevertheless',\n",
       " 'initial',\n",
       " 'impression',\n",
       " 'problem',\n",
       " 'treated',\n",
       " 'past',\n",
       " 'much',\n",
       " 'administrative',\n",
       " 'matter',\n",
       " 'somehow',\n",
       " 'regulated',\n",
       " 'manipulated',\n",
       " 'away',\n",
       " 'function',\n",
       " 'structural',\n",
       " 'problems',\n",
       " 'between',\n",
       " 'two',\n",
       " 'countries',\n",
       " 'unlilkely',\n",
       " 'disappear',\n",
       " 'overnight',\n",
       " 'emboff',\n",
       " 'those',\n",
       " 'u.s',\n",
       " 'commission',\n",
       " 'agreed',\n",
       " 'view',\n",
       " 'essential',\n",
       " 'problem',\n",
       " 'imbalance',\n",
       " 'between',\n",
       " 'backward',\n",
       " 'mexican',\n",
       " 'countryside',\n",
       " 'alluring',\n",
       " 'job',\n",
       " 'opportunities',\n",
       " 'u.s',\n",
       " 'reason',\n",
       " 'hoped',\n",
       " 'first',\n",
       " 'meeting',\n",
       " 'commissions',\n",
       " 'lay',\n",
       " 'groundwork',\n",
       " 'eventual',\n",
       " 'collaboration',\n",
       " 'deal',\n",
       " 'problems',\n",
       " 'underlying',\n",
       " 'illegal',\n",
       " 'migration',\n",
       " 'set',\n",
       " 'habit',\n",
       " 'antagonism',\n",
       " 'emboff',\n",
       " 'stressed',\n",
       " 'u.s',\n",
       " 'commission',\n",
       " 'go',\n",
       " 'meeting',\n",
       " 'unrealistic',\n",
       " 'demands',\n",
       " 'mexican',\n",
       " 'action',\n",
       " 'halt',\n",
       " 'flow',\n",
       " 'illegal',\n",
       " 'migrants',\n",
       " 'contrary',\n",
       " 'emboff',\n",
       " 'expected',\n",
       " 'u.s',\n",
       " 'side',\n",
       " 'focus',\n",
       " 'attention',\n",
       " 'achievable',\n",
       " 'short',\n",
       " 'term',\n",
       " 'measures',\n",
       " 'projects',\n",
       " 'both',\n",
       " 'sides',\n",
       " 'view',\n",
       " 'beneficial',\n",
       " 'interests',\n",
       " 'non',\n",
       " 'controversial',\n",
       " 'helpful',\n",
       " 'establishing',\n",
       " 'habit',\n",
       " 'co',\n",
       " 'operation',\n",
       " 'exchanges',\n",
       " 'data',\n",
       " 'information',\n",
       " 'cooperation',\n",
       " 'dealing',\n",
       " 'coyotes',\n",
       " 'offered',\n",
       " 'possible',\n",
       " 'examples',\n",
       " 'conzalez',\n",
       " 'de',\n",
       " 'leon',\n",
       " 'approach',\n",
       " 'great',\n",
       " 'deal',\n",
       " 'appeal',\n",
       " 'thought',\n",
       " 'mexico',\n",
       " 'welcome',\n",
       " 'opportunity',\n",
       " 'discuss',\n",
       " 'limited',\n",
       " 'program',\n",
       " 'two',\n",
       " 'way',\n",
       " 'cooperation',\n",
       " 'gonzalez',\n",
       " 'castaneda',\n",
       " 'begun',\n",
       " 'dig',\n",
       " 'new',\n",
       " 'area',\n",
       " 'responsibility',\n",
       " 'feel',\n",
       " 'views',\n",
       " 'mexican',\n",
       " 'commission',\n",
       " 'members',\n",
       " 'nevertheless',\n",
       " 'belived',\n",
       " 'possible',\n",
       " 'achieve',\n",
       " 'spirit',\n",
       " 'collaboration',\n",
       " 'atmosphere',\n",
       " 'informality',\n",
       " 'members',\n",
       " 'u.s',\n",
       " 'commission',\n",
       " 'recognize',\n",
       " 'immigration',\n",
       " 'problem',\n",
       " 'cut',\n",
       " 'both',\n",
       " 'ways.',\n",
       " 'comment',\n",
       " 'fonsec',\n",
       " 'garcia',\n",
       " \"robles'\",\n",
       " 'comments',\n",
       " 'ambassador',\n",
       " 'jova',\n",
       " 'yesterday',\n",
       " 'reftel',\n",
       " 'encouraged',\n",
       " 'signs',\n",
       " 'new',\n",
       " 'team',\n",
       " 'fonsec',\n",
       " 'commission',\n",
       " 'dialogue',\n",
       " 'started',\n",
       " 'right',\n",
       " 'foot',\n",
       " 'nevertheless',\n",
       " 'references',\n",
       " 'need',\n",
       " 'new',\n",
       " 'look',\n",
       " 'structural',\n",
       " 'problems',\n",
       " 'between',\n",
       " 'two',\n",
       " 'countries',\n",
       " 'negative',\n",
       " 'well',\n",
       " 'positive',\n",
       " 'implications',\n",
       " 'hope',\n",
       " 'herald',\n",
       " 'intrusion',\n",
       " 'nieo',\n",
       " 'rhetoric',\n",
       " 'migrant',\n",
       " 'labor',\n",
       " 'context',\n",
       " 'jova']"
      ]
     },
     "execution_count": 18,
     "metadata": {},
     "output_type": "execute_result"
    }
   ],
   "source": [
    "text_streamer.tokenizer.text_to_token_list(text)\n",
    "#text_streamer.tokenizer.text_to_counter(text)"
   ]
  },
  {
   "cell_type": "code",
   "execution_count": 19,
   "metadata": {},
   "outputs": [],
   "source": [
    "#lets look at a few methods\n",
    "token_stream = text_streamer.token_stream() # returns a generator function which yields a stream of tokens"
   ]
  },
  {
   "cell_type": "code",
   "execution_count": 20,
   "metadata": {},
   "outputs": [
    {
     "data": {
      "text/plain": [
       "['following',\n",
       " 'remarks',\n",
       " 'made',\n",
       " 'ambassador',\n",
       " 'atherton',\n",
       " 'arrival',\n",
       " 'rabat',\n",
       " 'airport',\n",
       " 'monday',\n",
       " 'afternoon']"
      ]
     },
     "execution_count": 20,
     "metadata": {},
     "output_type": "execute_result"
    }
   ],
   "source": [
    "token_stream.__next__()[:10] # this is what our basic tokenizer returns (we are skipping stop words and numerics by default)"
   ]
  },
  {
   "cell_type": "markdown",
   "metadata": {},
   "source": [
    "text_streamer.doc_id # returns a list of retrieved doc ids etc \n"
   ]
  },
  {
   "cell_type": "code",
   "execution_count": 21,
   "metadata": {},
   "outputs": [],
   "source": [
    "#if you want to use another tokenizer it's easy\n",
    "import nltk\n",
    "nltk.word_tokenize(text)\n",
    "text_streamer_nltk = TextFileStreamer(text_base_path=RAW, file_type='*', \n",
    "                                      tokenizer_func=nltk.word_tokenize)"
   ]
  },
  {
   "cell_type": "code",
   "execution_count": 22,
   "metadata": {},
   "outputs": [],
   "source": [
    "stream_nltk = text_streamer_nltk.token_stream()"
   ]
  },
  {
   "cell_type": "code",
   "execution_count": 23,
   "metadata": {},
   "outputs": [
    {
     "data": {
      "text/plain": [
       "['1',\n",
       " '.',\n",
       " 'EMBOFF',\n",
       " 'TODAY',\n",
       " 'DISCUSSED',\n",
       " 'MEXICAN',\n",
       " 'PLANS',\n",
       " 'FOR',\n",
       " 'APRIL',\n",
       " 'MEETING']"
      ]
     },
     "execution_count": 23,
     "metadata": {},
     "output_type": "execute_result"
    }
   ],
   "source": [
    "stream_nltk.__next__()[:10]"
   ]
  },
  {
   "cell_type": "markdown",
   "metadata": {},
   "source": [
    "#Vowpal Wabbit for LDA Topic Modeling\n",
    "* LDA = Latent Dirichlet Allocation \n",
    "    * treats each document as a bag of words \n",
    "    * a topic is chosen from a topic distribution $p(k)$ where $k=1, \\dots , K$\n",
    "    * a word is chosen from the k'th topic distribution $p(w|k)$ and thrown into the bag\n",
    "    * distrubutions $p(k)$ depends on $\\theta$ ~ $Dir(\\alpha)$ and $p(w|k)$ depends on $\\beta$ a $k\\times V$ matrix of word probabilties\n",
    "        * these 'latent' variables are chosen to maximize the probability of producing the observed documents, and in turn depend on user chosen parameters $\\alpha$ and $\\eta$ \n",
    "    * the model produces two important probability distributions:\n",
    "        * $p(w|k)$, the probability of $w$ bring generated by topic $k$ and\n",
    "        * $p(k|d)$, the probabilty of topic $k$ being used to generate a randomly chosen word from document $d$ \n",
    "    * these topic and word weights can be used to understand the semantic structure of the documents as well as generate document feature\n",
    "    * for more details about LDA topic modeling see the wonderful Blei, Ng, and Jordan [paper](http://www.cs.princeton.edu/~blei/papers/BleiNgJordan2003.pdf)\n",
    "* Vowpal Wabbit\n",
    "    * optimized (very fast) C++ library http://hunch.net/~vw/\n",
    "    * can find tutorials at https://github.com/JohnLangford/vowpal_wabbit/wiki/Tutorial and \n",
    "    https://github.com/columbia-applied-data-science/rosetta/blob/master/examples/vw_helpers.md\n",
    "    \n",
    "\n",
    "\n"
   ]
  },
  {
   "cell_type": "code",
   "execution_count": 24,
   "metadata": {},
   "outputs": [],
   "source": [
    "from rosetta.text import text_processors, filefilter, streamers, vw_helpers"
   ]
  },
  {
   "cell_type": "code",
   "execution_count": 25,
   "metadata": {},
   "outputs": [],
   "source": [
    "#create the VW format file \n",
    "my_tokenizer = text_processors.TokenizerBasic()\n",
    "stream = streamers.TextFileStreamer(text_base_path=RAW, tokenizer=my_tokenizer)\n",
    "stream.to_vw(sfile_path, n_jobs=-1, raise_on_bad_id=False)"
   ]
  },
  {
   "cell_type": "code",
   "execution_count": 26,
   "metadata": {},
   "outputs": [],
   "source": [
    "### somewhere here run (stick with 5 passes or so...)\n",
    "# rm -f *cache\n",
    "#vw --lda 20 --cache_file doc_tokens.cache --passes 5 -p prediction.dat --readable_model topics.dat --bit_precision 16 --lda_D 975 --lda_rho 0.1 --lda_alpha 1 ../sparse/cables-short.vw\n"
   ]
  },
  {
   "cell_type": "code",
   "execution_count": 27,
   "metadata": {},
   "outputs": [],
   "source": [
    "#load the sparse file \n",
    "formatter = text_processors.VWFormatter()\n",
    "sff = text_processors.SFileFilter(formatter)\n",
    "sff.load_sfile(sfile_path)"
   ]
  },
  {
   "cell_type": "code",
   "execution_count": 28,
   "metadata": {},
   "outputs": [
    {
     "name": "stdout",
     "output_type": "stream",
     "text": [
      "Compactification done.  self.bit_precision_required = 9\n",
      "collisions = 0, vocab_size = 457\n",
      "All collisions resolved\n"
     ]
    }
   ],
   "source": [
    "#remove \"gaps\" in the sequence of numbers (ids)\n",
    "sff.compactify()\n",
    "sff.save(PROCESSED + '/sff_basic.pkl')"
   ]
  },
  {
   "cell_type": "code",
   "execution_count": 29,
   "metadata": {},
   "outputs": [
    {
     "data": {
      "text/html": [
       "<div>\n",
       "<style scoped>\n",
       "    .dataframe tbody tr th:only-of-type {\n",
       "        vertical-align: middle;\n",
       "    }\n",
       "\n",
       "    .dataframe tbody tr th {\n",
       "        vertical-align: top;\n",
       "    }\n",
       "\n",
       "    .dataframe thead th {\n",
       "        text-align: right;\n",
       "    }\n",
       "</style>\n",
       "<table border=\"1\" class=\"dataframe\">\n",
       "  <thead>\n",
       "    <tr style=\"text-align: right;\">\n",
       "      <th></th>\n",
       "      <th>token_score</th>\n",
       "      <th>doc_freq</th>\n",
       "      <th>doc_fraction</th>\n",
       "    </tr>\n",
       "    <tr>\n",
       "      <th>token</th>\n",
       "      <th></th>\n",
       "      <th></th>\n",
       "      <th></th>\n",
       "    </tr>\n",
       "  </thead>\n",
       "  <tbody>\n",
       "    <tr>\n",
       "      <th>following</th>\n",
       "      <td>3.0</td>\n",
       "      <td>3</td>\n",
       "      <td>0.6</td>\n",
       "    </tr>\n",
       "    <tr>\n",
       "      <th>made</th>\n",
       "      <td>5.0</td>\n",
       "      <td>3</td>\n",
       "      <td>0.6</td>\n",
       "    </tr>\n",
       "    <tr>\n",
       "      <th>reftel</th>\n",
       "      <td>4.0</td>\n",
       "      <td>3</td>\n",
       "      <td>0.6</td>\n",
       "    </tr>\n",
       "    <tr>\n",
       "      <th>countries</th>\n",
       "      <td>5.0</td>\n",
       "      <td>3</td>\n",
       "      <td>0.6</td>\n",
       "    </tr>\n",
       "    <tr>\n",
       "      <th>meeting</th>\n",
       "      <td>7.0</td>\n",
       "      <td>2</td>\n",
       "      <td>0.4</td>\n",
       "    </tr>\n",
       "    <tr>\n",
       "      <th>recent</th>\n",
       "      <td>4.0</td>\n",
       "      <td>2</td>\n",
       "      <td>0.4</td>\n",
       "    </tr>\n",
       "    <tr>\n",
       "      <th>two</th>\n",
       "      <td>5.0</td>\n",
       "      <td>2</td>\n",
       "      <td>0.4</td>\n",
       "    </tr>\n",
       "    <tr>\n",
       "      <th>given</th>\n",
       "      <td>2.0</td>\n",
       "      <td>2</td>\n",
       "      <td>0.4</td>\n",
       "    </tr>\n",
       "    <tr>\n",
       "      <th>information</th>\n",
       "      <td>3.0</td>\n",
       "      <td>2</td>\n",
       "      <td>0.4</td>\n",
       "    </tr>\n",
       "    <tr>\n",
       "      <th>beneficial</th>\n",
       "      <td>2.0</td>\n",
       "      <td>2</td>\n",
       "      <td>0.4</td>\n",
       "    </tr>\n",
       "  </tbody>\n",
       "</table>\n",
       "</div>"
      ],
      "text/plain": [
       "             token_score  doc_freq  doc_fraction\n",
       "token                                           \n",
       "following            3.0         3           0.6\n",
       "made                 5.0         3           0.6\n",
       "reftel               4.0         3           0.6\n",
       "countries            5.0         3           0.6\n",
       "meeting              7.0         2           0.4\n",
       "recent               4.0         2           0.4\n",
       "two                  5.0         2           0.4\n",
       "given                2.0         2           0.4\n",
       "information          3.0         2           0.4\n",
       "beneficial           2.0         2           0.4"
      ]
     },
     "execution_count": 29,
     "metadata": {},
     "output_type": "execute_result"
    }
   ],
   "source": [
    "sff.to_frame().sort_values(by='doc_fraction', ascending=False).head(10)"
   ]
  },
  {
   "cell_type": "markdown",
   "metadata": {},
   "source": [
    "## Look at LDA results"
   ]
  },
  {
   "cell_type": "code",
   "execution_count": 30,
   "metadata": {},
   "outputs": [],
   "source": [
    "#use the LDAResults class from rosetta to convert back to readable, python friendly formats\n",
    "lda = vw_helpers.LDAResults(PROCESSED + '/topics.dat', \n",
    "                            PROCESSED + '/prediction.dat', PROCESSED + '/sff_basic.pkl')"
   ]
  },
  {
   "cell_type": "code",
   "execution_count": 31,
   "metadata": {},
   "outputs": [
    {
     "data": {
      "text/html": [
       "<div>\n",
       "<style scoped>\n",
       "    .dataframe tbody tr th:only-of-type {\n",
       "        vertical-align: middle;\n",
       "    }\n",
       "\n",
       "    .dataframe tbody tr th {\n",
       "        vertical-align: top;\n",
       "    }\n",
       "\n",
       "    .dataframe thead th {\n",
       "        text-align: right;\n",
       "    }\n",
       "</style>\n",
       "<table border=\"1\" class=\"dataframe\">\n",
       "  <thead>\n",
       "    <tr style=\"text-align: right;\">\n",
       "      <th></th>\n",
       "      <th>token_score</th>\n",
       "      <th>doc_freq</th>\n",
       "      <th>doc_fraction</th>\n",
       "    </tr>\n",
       "    <tr>\n",
       "      <th>token</th>\n",
       "      <th></th>\n",
       "      <th></th>\n",
       "      <th></th>\n",
       "    </tr>\n",
       "  </thead>\n",
       "  <tbody>\n",
       "    <tr>\n",
       "      <th>viewed</th>\n",
       "      <td>1.0</td>\n",
       "      <td>1</td>\n",
       "      <td>0.2</td>\n",
       "    </tr>\n",
       "    <tr>\n",
       "      <th>castaneda</th>\n",
       "      <td>3.0</td>\n",
       "      <td>1</td>\n",
       "      <td>0.2</td>\n",
       "    </tr>\n",
       "    <tr>\n",
       "      <th>september</th>\n",
       "      <td>1.0</td>\n",
       "      <td>1</td>\n",
       "      <td>0.2</td>\n",
       "    </tr>\n",
       "    <tr>\n",
       "      <th>statement</th>\n",
       "      <td>2.0</td>\n",
       "      <td>1</td>\n",
       "      <td>0.2</td>\n",
       "    </tr>\n",
       "    <tr>\n",
       "      <th>regard</th>\n",
       "      <td>1.0</td>\n",
       "      <td>1</td>\n",
       "      <td>0.2</td>\n",
       "    </tr>\n",
       "    <tr>\n",
       "      <th>chinese</th>\n",
       "      <td>4.0</td>\n",
       "      <td>1</td>\n",
       "      <td>0.2</td>\n",
       "    </tr>\n",
       "    <tr>\n",
       "      <th>great</th>\n",
       "      <td>2.0</td>\n",
       "      <td>2</td>\n",
       "      <td>0.4</td>\n",
       "    </tr>\n",
       "    <tr>\n",
       "      <th>function</th>\n",
       "      <td>1.0</td>\n",
       "      <td>1</td>\n",
       "      <td>0.2</td>\n",
       "    </tr>\n",
       "    <tr>\n",
       "      <th>gonzalez</th>\n",
       "      <td>6.0</td>\n",
       "      <td>1</td>\n",
       "      <td>0.2</td>\n",
       "    </tr>\n",
       "    <tr>\n",
       "      <th>policy</th>\n",
       "      <td>1.0</td>\n",
       "      <td>1</td>\n",
       "      <td>0.2</td>\n",
       "    </tr>\n",
       "  </tbody>\n",
       "</table>\n",
       "</div>"
      ],
      "text/plain": [
       "           token_score  doc_freq  doc_fraction\n",
       "token                                         \n",
       "viewed             1.0         1           0.2\n",
       "castaneda          3.0         1           0.2\n",
       "september          1.0         1           0.2\n",
       "statement          2.0         1           0.2\n",
       "regard             1.0         1           0.2\n",
       "chinese            4.0         1           0.2\n",
       "great              2.0         2           0.4\n",
       "function           1.0         1           0.2\n",
       "gonzalez           6.0         1           0.2\n",
       "policy             1.0         1           0.2"
      ]
     },
     "execution_count": 31,
     "metadata": {},
     "output_type": "execute_result"
    }
   ],
   "source": [
    "#look at some of the words\n",
    "topic_words = lda.pr_token_g_topic.loc[:,'topic_12'].sort_values(ascending=False).index[:10]\n",
    "lda.sfile_frame.loc[topic_words]"
   ]
  },
  {
   "cell_type": "code",
   "execution_count": 32,
   "metadata": {},
   "outputs": [
    {
     "data": {
      "text/plain": [
       "token\n",
       "following     0.000217\n",
       "remarks       0.000194\n",
       "made          0.000195\n",
       "ambassador    0.000198\n",
       "atherton      0.000194\n",
       "arrival       0.000194\n",
       "rabat         0.000196\n",
       "airport       0.000193\n",
       "monday        0.000194\n",
       "afternoon     0.000195\n",
       "Name: topic_00, dtype: float64"
      ]
     },
     "execution_count": 32,
     "metadata": {},
     "output_type": "execute_result"
    }
   ],
   "source": [
    "#look at the the first topic\n",
    "a_topic = lda.pr_token_g_topic.T.loc['topic_00'].copy()\n",
    "a_topic.sort_values(ascending=False)\n",
    "a_topic[:10]"
   ]
  },
  {
   "cell_type": "code",
   "execution_count": 33,
   "metadata": {},
   "outputs": [
    {
     "data": {
      "text/plain": [
       "<matplotlib.axes._subplots.AxesSubplot at 0x11ae05940>"
      ]
     },
     "execution_count": 33,
     "metadata": {},
     "output_type": "execute_result"
    }
   ],
   "source": [
    "##\n",
    "lda.pr_topic_g_doc.T.iloc[[0]].plot(kind='bar', figsize=(12,7),\n",
    "                                   title = 'First Document Topic Weights')"
   ]
  },
  {
   "cell_type": "code",
   "execution_count": 34,
   "metadata": {
    "scrolled": true
   },
   "outputs": [
    {
     "data": {
      "text/plain": [
       "<matplotlib.axes._subplots.AxesSubplot at 0x1a21e84630>"
      ]
     },
     "execution_count": 34,
     "metadata": {},
     "output_type": "execute_result"
    },
    {
     "data": {
      "image/png": "[encoded data removed]",
      "text/plain": [
       "<Figure size 864x504 with 1 Axes>"
      ]
     },
     "metadata": {},
     "output_type": "display_data"
    }
   ],
   "source": [
    "#or at the average topic probabilties \n",
    "import random\n",
    "r = lambda: random.randint(0,255)\n",
    "my_colors = ['#%02X%02X%02X' % (r(),r(),r()) for i in range(20)]\n",
    "#my_colors = 'rgbkymc'\n",
    "lda.pr_topic_g_doc.mean(axis=1).plot(kind='bar', figsize=(12,7), color=my_colors,\n",
    "                                     title='Average Topic Probabilities')"
   ]
  },
  {
   "cell_type": "markdown",
   "metadata": {},
   "source": [
    "##You can grab a copy of this [notebook](https://github.com/columbia-applied-data-science/rosetta/tree/master/notebooks) in the [Rosetta repo](https://github.com/columbia-applied-data-science/rosetta). "
   ]
  },
  {
   "cell_type": "markdown",
   "metadata": {},
   "source": [
    "##[Rosetta](https://github.com/columbia-applied-data-science/rosetta)\n",
    "    *Install, fork, submnit issues, contribute!\n"
   ]
  },
  {
   "cell_type": "markdown",
   "metadata": {},
   "source": [
    "#Have fun!\n"
   ]
  },
  {
   "cell_type": "markdown",
   "metadata": {},
   "source": [
    "#This notebook was created by Daniel Krasner and updated for Python 3 by Clara Suong."
   ]
  }
 ],
 "metadata": {
  "kernelspec": {
   "display_name": "Python 3",
   "language": "python",
   "name": "python3"
  },
  "language_info": {
   "codemirror_mode": {
    "name": "ipython",
    "version": 3
   },
   "file_extension": ".py",
   "mimetype": "text/x-python",
   "name": "python",
   "nbconvert_exporter": "python",
   "pygments_lexer": "ipython3",
   "version": "3.6.5"
  }
 },
 "nbformat": 4,
 "nbformat_minor": 1
}
