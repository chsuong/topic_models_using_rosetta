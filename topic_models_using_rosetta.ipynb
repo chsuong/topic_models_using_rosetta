{
 "cells": [
  {
   "cell_type": "markdown",
   "metadata": {},
   "source": [
    "#(Easy) High performance text processing in Machine Learning*"
   ]
  },
  {
   "cell_type": "markdown",
   "metadata": {},
   "source": [
    "#[Rosetta*](https://github.com/columbia-applied-data-science/rosetta) \n",
    "\n",
    "##Tools for data science with a focus on text processing.\n",
    "\n",
    "* Focuses on \"medium data\", i.e. data too big to fit into memory but too small to necessitate the use of a cluster.\n",
    "* Integrates with existing scientific Python stack as well as select outside tools.\n",
    "\n",
    "## Tools and utilities \n",
    "\n",
    "### `cmd` \n",
    "* Unix-like command line utilities.  Filters (read from stdin/write to stdout) for files\n",
    "\n",
    "### `parallel` \n",
    "* Wrappers for Python multiprocessing that add ease of use\n",
    "* Memory-friendly multiprocessing\n",
    "\n",
    "### `text`\n",
    "* Stream text from disk to formats used in common ML processes\n",
    "    * file, database, and generic streamers\n",
    "* Write processed text to sparse formats\n",
    "* Helpers for ML tools (e.g. Vowpal Wabbit, Gensim, etc...)\n",
    "* Other general utilities\n",
    "\n",
    "### `workflow`\n",
    "* High-level wrappers that have helped with our workflow and provide additional examples of code use\n",
    "\n",
    "### `modeling`\n",
    "* General ML modeling utilities\n"
   ]
  },
  {
   "cell_type": "markdown",
   "metadata": {},
   "source": [
    "#Lets begin"
   ]
  },
  {
   "cell_type": "markdown",
   "metadata": {},
   "source": [
    "###For the purpose of this tutorial, we will be working with body of about 5 declassified government embassy cables.\n"
   ]
  },
  {
   "cell_type": "code",
   "execution_count": 1,
   "metadata": {},
   "outputs": [],
   "source": [
    "import os\n",
    "import pandas as pd"
   ]
  },
  {
   "cell_type": "markdown",
   "metadata": {},
   "source": [
    "#Text Processors"
   ]
  },
  {
   "cell_type": "markdown",
   "metadata": {},
   "source": [
    "##Streamers\n",
    "* Data in many text processing problems comes in the form of \n",
    "    * flat files\n",
    "    * repeated calls to an DB or API\n",
    "    * some 'online' stream\n",
    "* A lot of these can be handled streaming the data either from disk, DB, API minimizing CPU use\n",
    "* In addition, a lot of streaming is embarassingly parallel so can be easily scaled\n"
   ]
  },
  {
   "cell_type": "code",
   "execution_count": 2,
   "metadata": {},
   "outputs": [],
   "source": [
    "#all you realy need to know is that CABLES is the directory where the data (or cables)\n",
    "#are stored on your machine\n",
    "DATA = '/Users/clarahsuong/topic_models_using_rosetta/data'\n",
    "RAW = os.path.join(DATA, 'raw')\n",
    "PROCESSED = os.path.join(DATA, 'processed')\n",
    "SPARSE = os.path.join(DATA, 'sparse')\n",
    "\n",
    "sfile_path = os.path.join(SPARSE, 'doc_tokens.vw')\n",
    "filtered_sfile_path = os.path.join(PROCESSED, 'doc_tokens-filtered.vw')\n",
    "sff_path = os.path.join(PROCESSED, 'sff.pkl')\n"
   ]
  },
  {
   "cell_type": "markdown",
   "metadata": {},
   "source": [
    "## Streaming: given a collection of objects streaming is the paradigm of processing these objects one at a time in memory, extracting relevant information, writing the information, and discarding the original object \n",
    "\n",
    "###Note: after a streaming process is complete, the original collection should no longer be needed for the analysis at hand"
   ]
  },
  {
   "cell_type": "markdown",
   "metadata": {},
   "source": [
    "* Lets write a simple file streamer"
   ]
  },
  {
   "cell_type": "code",
   "execution_count": 3,
   "metadata": {},
   "outputs": [],
   "source": [
    "#filefilter is a module which helps with basic file/dir functions, such as\n",
    "#retrieving all paths from a given directory and it's subdir's\n",
    "from rosetta.text import filefilter"
   ]
  },
  {
   "cell_type": "code",
   "execution_count": 4,
   "metadata": {},
   "outputs": [],
   "source": [
    "def simple_file_streamer(base_path):\n",
    "    paths = filefilter.get_paths(base_path, get_iter=True)\n",
    "    for p in paths:\n",
    "        with open(p) as f:\n",
    "            text = f.read()\n",
    "            yield(text)"
   ]
  },
  {
   "cell_type": "markdown",
   "metadata": {},
   "source": [
    "###In case you haven't worked much with iterators explicitely, here is a small refresher... \n",
    "* For those familiar with generator functions, or iterators, you'll notice that this is exactly what we mean by \"streamer,\" i.e. anything that retrieves files or extracts information from therein and has a .next() method\n",
    "* python docs have a short intro about generators (http://docs.python.org/2/tutorial/classes.html#generators)"
   ]
  },
  {
   "cell_type": "code",
   "execution_count": 5,
   "metadata": {},
   "outputs": [],
   "source": [
    "def my_iter(N):\n",
    "    i=0\n",
    "    while True:\n",
    "        if i == N:\n",
    "            raise StopIteration\n",
    "        else:\n",
    "            yield i\n",
    "        i += 1\n",
    "                \n",
    "        "
   ]
  },
  {
   "cell_type": "code",
   "execution_count": 6,
   "metadata": {},
   "outputs": [],
   "source": [
    "mi = my_iter(5)\n",
    "\n"
   ]
  },
  {
   "cell_type": "code",
   "execution_count": 7,
   "metadata": {},
   "outputs": [
    {
     "data": {
      "text/plain": [
       "0"
      ]
     },
     "execution_count": 7,
     "metadata": {},
     "output_type": "execute_result"
    }
   ],
   "source": [
    "mi.__next__()"
   ]
  },
  {
   "cell_type": "code",
   "execution_count": 8,
   "metadata": {},
   "outputs": [
    {
     "name": "stdout",
     "output_type": "stream",
     "text": [
      "0\n",
      "1\n",
      "2\n",
      "3\n",
      "4\n"
     ]
    },
    {
     "name": "stderr",
     "output_type": "stream",
     "text": [
      "/anaconda3/lib/python3.6/site-packages/ipykernel_launcher.py:3: DeprecationWarning: generator 'my_iter' raised StopIteration\n",
      "  This is separate from the ipykernel package so we can avoid doing imports until\n"
     ]
    }
   ],
   "source": [
    "#note the raised StopIteration; lets see how a for look handles this\n",
    "\n",
    "for i in my_iter(5):\n",
    "    print(i)\n",
    "    "
   ]
  },
  {
   "cell_type": "markdown",
   "metadata": {},
   "source": [
    "###so even if you have not thought about iterators, you have been using them throughout \n",
    "###now back to our streamer"
   ]
  },
  {
   "cell_type": "code",
   "execution_count": 9,
   "metadata": {},
   "outputs": [],
   "source": [
    "simple_stream = simple_file_streamer(RAW)"
   ]
  },
  {
   "cell_type": "code",
   "execution_count": 10,
   "metadata": {},
   "outputs": [
    {
     "data": {
      "text/plain": [
       "generator"
      ]
     },
     "execution_count": 10,
     "metadata": {},
     "output_type": "execute_result"
    }
   ],
   "source": [
    "#lets look at what this object is\n",
    "type(simple_stream)"
   ]
  },
  {
   "cell_type": "markdown",
   "metadata": {},
   "source": [
    "###Note: this is the first time anything is read into memory"
   ]
  },
  {
   "cell_type": "code",
   "execution_count": 11,
   "metadata": {},
   "outputs": [
    {
     "data": {
      "text/plain": [
       "[\"THE FOLLOWING ARE THE REMARKS MADE BY AMBASSADOR ATHERTON ON\\\\nHIS ARRIVAL AT RABAT AIRPORT MONDAY AFTERNOON, OCTOBER 2:\\\\nFIRST OF ALL, I AM VERY PLEASED INDEED TO RETURN TO MOROCCO.\\\\nIT HAS BEEN MUCH TOO LONG SINCE MY LAST VISIT HERE. I AM PARTI-\\\\nCULARLY PLEASED THAT I AM ABLE TO INTRODUCE MRS. ATHERTON TO\\\\nMOROCCO.\\\\nI AM HERE BECAUSE PRESIDENT CARTER AND SECRETARY VANCE ASKED\\\\nTHAT I COME ON THEIR BEHALF TO DISCUSS WITH HIS MAJESTY THE\\\\nIMPORTANT RECENT DEVELOPMENTS WITH REGARD TO THE MIDDLE EAST\\\\nSITUATION AND, IN PARTICULAR, THE AGREEMENTS THAT THAT WERE\\\\nCONCLUDED AT THE CAMP DAVID SUMMIT TWO WEEKS AGO.\\\\nMY GOVERNMENT ATTACHES PARTICULAR IMPORTANCE TO THESE\\\\nCONSULTATIONS WITH HIS MAJESTY GIVEN THE LONG HISTORY OF\\\\nCLOSE AND FRIENDLY RELATIONS AND MUTUALLY BENEFICIAL RELA-\\\\nTIONS BETWEEN OUR TWO COUNTRIES AND THE TRADITION OF CLOSE\\\\nCONSULTATIONS BETWEEN US.\\\\nI WILL EXPLAIN TO HIS MAJESTY THE IMPORTANCE THAT MY\\\\nGOVERNMENT ATTACHES TO THE CAMP DAVID AGREEMENTS AS A FRAME-\\\\nWORK FOR PEACE IN THE MIDDLE EAST FOR ALL OF THE PEOPLES,\\\\nAND ALL OF THE STATES IN THAT AREA - A COMPREHENSIVE PEACE\\\\nIN THE MIDDLE EAST.\\\\nI AM VERY GRATEFUL TO HIS MAJESTY FOR RECEIVING ME AND\\\\nI LOOK FORWARD TO THE HONOR OF MEETING WITH HIS MAJESTY\\\\nTOMORROW.\\\\nQ. - - - - (INAUDIBLE) RECENT CONSULTATIONS WITH OTHER\\\\nCOUNTRIES RE CAMP DAVID?\\\\nA. THEY HAVE BEEN USEFUL. THIS IS A PERIOD WHEN MANY\\\\nGOVERNMENTS ARE REFLECING ON THESE AGREEMENTS, THE OPPORTUNITIES\\\\nTHEY OPEN UP, AND WE HAVE CONSIDERED IT USEFUL AT THIS TIME TO BE\\\\nAVAILABLE TO ANSWER QUESTIONS AND TO EXPLAIN OUR POLICY.\\\\nAND I CONSIDER IT PARTICULARLY USEFUL, MY GOVERNMENT\\\\nCONSIDERS IT PARTICULARLY USEFUL, TO BE AVAILABLE TO HELP EXPLAIN\\\\nOUR POLICY AND ANSWER QUESTIONS IN THIS WAY AT THIS TIME.\\\\nQ. ARE YOU CARRYING A LETTER FROM PRESIDENT CARTER\\\\nTO HIS MAJESTY?\\\\nA. I HAVE NOT BEEN CARRYING FORMAL MESSAGES ON THIS\\\\nTRIP. I WILL OF COURSE CONVEY PRESIDENT CARTER'S BEST WISHES\\\\nAND RESPECTS TO HIS MAJESTY WHEN I MEET WITH HIM.ANDERSON\\\\n\"]"
      ]
     },
     "execution_count": 11,
     "metadata": {},
     "output_type": "execute_result"
    }
   ],
   "source": [
    "#lets see what the .next() yields (and splitlines to make it more readable)\n",
    "simple_stream.__next__().splitlines()"
   ]
  },
  {
   "cell_type": "markdown",
   "metadata": {},
   "source": [
    "\n",
    "* Now since our end goal is to build a topic model we probably want to have a more fexible streamer, i.e. one that can return file ids, text or tokens (based on some predefined tokenizer)\n",
    "    * luckily we have one such streamer written"
   ]
  },
  {
   "cell_type": "code",
   "execution_count": 12,
   "metadata": {},
   "outputs": [],
   "source": [
    "from rosetta import TextFileStreamer, TokenizerBasic\n",
    "text_streamer = TextFileStreamer(text_base_path=RAW, file_type='*', \n",
    "                                           tokenizer=TokenizerBasic())\n"
   ]
  },
  {
   "cell_type": "code",
   "execution_count": 13,
   "metadata": {},
   "outputs": [],
   "source": [
    "from rosetta.text import streamers"
   ]
  },
  {
   "cell_type": "code",
   "execution_count": 14,
   "metadata": {},
   "outputs": [],
   "source": [
    "stream = text_streamer.info_stream()"
   ]
  },
  {
   "cell_type": "code",
   "execution_count": 15,
   "metadata": {},
   "outputs": [
    {
     "data": {
      "text/plain": [
       "{'text': \"B) TEHRAN 10867\\\\nC) STATE 263203\\\\nD) STATE 265085\\\\n1. SCHEDULE GIVEN IN PARA 3, REFTEL A, DOES NOT APPEAR TO\\\\nTAKE INTO ACCOUNT GREAT DIFFICULTY IN SCHEDULING APPOINTMENTS\\\\nFOR MR. PARSKY ON THURSDAY, NOVEMBER 27 PER REFTEL B.\\\\n2. WE STRONGLY RECOMMEND THAT MR. PARSKY ALTER HIS SCHEDULE\\\\nTO ARRIVE TEHRAN EVENING OF NOVEMBER 25 FOR APPOINTMENTS\\\\nWEDNESDAY, NOVEMBER 26, OR ALTERNATIVELY, ARRIVE EVENING FRIDAY,\\\\nNOVEMBER 28 FOR APPOINTMENTS SATURDAY, NOVEMBER 29.\\\\n3. WOULD APPRECIATE DEPARTMENT'S REPLY SOONEST.\\\\nHELMS\\\\n\",\n",
       " 'cached_path': '/Users/clarahsuong/topic_models_using_rosetta/data/raw/sample_cable_body_1975TEHRAN11022.txt',\n",
       " 'doc_id': 'sample_cable_body_1975TEHRAN11022',\n",
       " 'mtime': 1566229483.534606,\n",
       " 'atime': 1566413352.0283902,\n",
       " 'size': 522,\n",
       " 'tokens': ['tehran',\n",
       "  'state',\n",
       "  'state',\n",
       "  'schedule',\n",
       "  'given',\n",
       "  'para',\n",
       "  'reftel',\n",
       "  'appear',\n",
       "  'account',\n",
       "  'great',\n",
       "  'difficulty',\n",
       "  'scheduling',\n",
       "  'mr',\n",
       "  'parsky',\n",
       "  'thursday',\n",
       "  'november',\n",
       "  'per',\n",
       "  'reftel',\n",
       "  'strongly',\n",
       "  'recommend',\n",
       "  'mr',\n",
       "  'parsky',\n",
       "  'alter',\n",
       "  'arrive',\n",
       "  'tehran',\n",
       "  'evening',\n",
       "  'november',\n",
       "  'november',\n",
       "  'alternatively',\n",
       "  'arrive',\n",
       "  'evening',\n",
       "  'friday',\n",
       "  'appointments',\n",
       "  'saturday',\n",
       "  'november',\n",
       "  'appreciate',\n",
       "  \"department's\",\n",
       "  'reply']}"
      ]
     },
     "execution_count": 15,
     "metadata": {},
     "output_type": "execute_result"
    }
   ],
   "source": [
    "stream.__next__()"
   ]
  },
  {
   "cell_type": "markdown",
   "metadata": {},
   "source": [
    "* Note: you can pass a tokenizer function to TextFileStreamer(), i.e. any function that takes a string of text and returns a list of strings (the \"tokens\")\n",
    "    * We have written a basic tokenizer function and class to add functionality and because the nltk.word_tokenize() was slow\n",
    "* It also has a few other nice options such as shuffle, file_type, etc and a bunch of methods"
   ]
  },
  {
   "cell_type": "code",
   "execution_count": 16,
   "metadata": {},
   "outputs": [],
   "source": [
    "text = stream.__next__()['text']"
   ]
  },
  {
   "cell_type": "code",
   "execution_count": 17,
   "metadata": {},
   "outputs": [
    {
     "name": "stdout",
     "output_type": "stream",
     "text": [
      "SUMMARY:\\nIN RECENT PERIODIC CONVERSATION WITH TREASURY REPRESENTATIVE\\nCHEN HUNG, SUB-MANAGER BANK OF CHINA, MADE NUMBER OF COMMENTS\\nON PRC'S WHEAT AND RICE TRADE, OIL EXPORTS, DESIRABILITY OF MFN\\nFOR EXPORTS TO US AND PAYMENTS MECHANISM FOR SINO-US TRADE.\\nEND SUMMARY\\n1. CHINESE EXPORTS-CHEN MADE FOLLOWING REMARKS: (A) RICE\\nEXPORTS ABOUT COVER WHEAT IMPORTS. (SINCE CONTEXT WAS MONETARY,\\nTHIS IMPLIED THAT EARNINGS FROM RICE PAID FOR WHEAT IMPORTS.)\\n(B) NEAR-TERMS PROSPECTS FOR EXPANSION OF OIL EXPORTS WERE\\nSMALL AND REFERRED TO RECENT SALES TO HONG KONG AS NEGLIGIBLE;\\n(C) MFN HAD IMPORTANT ECONOMIC BENEFITS FOR PRC BECAUSE IT WAS\\nIN COMPETITION ON MANY PRODUCTS WITH OTHER EXPORTERS WHO\\nENJOYED IT. CHINA IN THIS SITUATION WOULD HAVE TO ACCEPT\\nLOWER PRICE TO MAKE SALES; AND (D) MENTIONED INTEREST IN LIGHT\\nINDUSTRIAL EXPORTS SUCH AS BICYCLES WHICH HE BELIEVED HAD BEEN\\nSOLD TO US.\\n2. SINO-US TRADE PAYMENTS -CHEN'S ACCOUNT OF PAYMENTS CONFORMS\\nWITH OTHER INFORMATION. CHINESE IMPORTS ARE PAID FOR BY\\nDEBITING PRC ACCOUNTS IN THIRD COUNTRY BANKS WITH BRANCES IN\\nTHE US. CHINESE EXPORTS ARE PAID FOR BY LETTERS OF CREDIT OPENED\\nIN THEIR FAVOR AND SENT TO PEKING, SHANGHAI OR OTHER DESTINATIONS\\nWHICH ARE THEN COLLECTED BY BOC. THESE L/CS ARE NOT ALWAYS IN\\nDOLLARS. AN ALTERNATIVE METHOD ADOPTED BY SOME BANKS IS TO\\nOPEN RMB ACCOUNTS IN BOC WHICH WOULD THEN BE DEBITED TO PAY FOR\\nCHINESE EXPORTS.\\n3. CHEN EXPRESSED AN INTEREST IN EFFECT OF OIL SHORTAGES ON\\nUS, COUNTRIES TO WHICH US EXPORTED RICE, CURRENT US HARVESTS,\\nAND OUTLOOK FOR HK ECONOMY NEXT YEAR.\\n4. COMMENT: STATEMENT ABOUT WHEAT AND RICE SEEMS SIMILAR TO\\nLI CH'IANG STATEMENT IN REFTEL. INFORMATION AVAILABLE HERE\\nINDICATES THAT SUCH VOLUME RICE EXPORTS COULD ONLY BE POSSIBLE\\nBY TRADE WITH COMMUNIST COUNTRIES WHERE FACTS ARE OBSCURE.\\nWHILE PRC WOULD NOT RECEIVE HARD CURRENCY FROM EXPORTS TO\\nCOMMUNIST TRADING PARTNERS, IT WOULD RECEIVE IMPORTS WHICH\\nMIGHT OTHERWISE HAVE TO BE PAID FOR WITH HARD CURRENCY\\nUNLESS RICE EXPORTS WERE PART OF CHINESE AID PROGRAM.\\nOSBORN\\n\n"
     ]
    }
   ],
   "source": [
    "print(text)"
   ]
  },
  {
   "cell_type": "code",
   "execution_count": 18,
   "metadata": {},
   "outputs": [
    {
     "data": {
      "text/plain": [
       "['summary',\n",
       " 'recent',\n",
       " 'periodic',\n",
       " 'conversation',\n",
       " 'treasury',\n",
       " 'hung',\n",
       " 'sub',\n",
       " 'manager',\n",
       " 'bank',\n",
       " 'china',\n",
       " 'made',\n",
       " 'number',\n",
       " \"prc's\",\n",
       " 'wheat',\n",
       " 'rice',\n",
       " 'trade',\n",
       " 'oil',\n",
       " 'exports',\n",
       " 'desirability',\n",
       " 'exports',\n",
       " 'payments',\n",
       " 'mechanism',\n",
       " 'sino',\n",
       " 'chinese',\n",
       " 'exports',\n",
       " 'chen',\n",
       " 'made',\n",
       " 'following',\n",
       " 'remarks',\n",
       " 'cover',\n",
       " 'wheat',\n",
       " 'imports',\n",
       " 'context',\n",
       " 'monetary',\n",
       " 'implied',\n",
       " 'earnings',\n",
       " 'rice',\n",
       " 'paid',\n",
       " 'wheat',\n",
       " 'imports.',\n",
       " 'near',\n",
       " 'terms',\n",
       " 'prospects',\n",
       " 'expansion',\n",
       " 'oil',\n",
       " 'exports',\n",
       " 'referred',\n",
       " 'recent',\n",
       " 'sales',\n",
       " 'hong',\n",
       " 'kong',\n",
       " 'negligible',\n",
       " 'mfn',\n",
       " 'important',\n",
       " 'economic',\n",
       " 'benefits',\n",
       " 'prc',\n",
       " 'competition',\n",
       " 'many',\n",
       " 'products',\n",
       " 'exporters',\n",
       " 'china',\n",
       " 'situation',\n",
       " 'price',\n",
       " 'make',\n",
       " 'sales',\n",
       " 'mentioned',\n",
       " 'interest',\n",
       " 'exports',\n",
       " 'such',\n",
       " 'bicycles',\n",
       " 'believed',\n",
       " 'sino',\n",
       " 'trade',\n",
       " 'payments',\n",
       " \"chen's\",\n",
       " 'account',\n",
       " 'payments',\n",
       " 'information',\n",
       " 'chinese',\n",
       " 'imports',\n",
       " 'paid',\n",
       " 'prc',\n",
       " 'accounts',\n",
       " 'third',\n",
       " 'country',\n",
       " 'banks',\n",
       " 'brances',\n",
       " 'chinese',\n",
       " 'exports',\n",
       " 'paid',\n",
       " 'letters',\n",
       " 'credit',\n",
       " 'favor',\n",
       " 'sent',\n",
       " 'peking',\n",
       " 'shanghai',\n",
       " 'collected',\n",
       " 'boc',\n",
       " 'always',\n",
       " 'alternative',\n",
       " 'method',\n",
       " 'adopted',\n",
       " 'banks',\n",
       " 'rmb',\n",
       " 'accounts',\n",
       " 'boc',\n",
       " 'debited',\n",
       " 'pay',\n",
       " 'chen',\n",
       " 'expressed',\n",
       " 'interest',\n",
       " 'effect',\n",
       " 'oil',\n",
       " 'shortages',\n",
       " 'countries',\n",
       " 'exported',\n",
       " 'rice',\n",
       " 'current',\n",
       " 'harvests',\n",
       " 'outlook',\n",
       " 'hk',\n",
       " 'economy',\n",
       " 'next',\n",
       " 'comment',\n",
       " 'statement',\n",
       " 'wheat',\n",
       " 'rice',\n",
       " 'seems',\n",
       " 'similar',\n",
       " \"ch'iang\",\n",
       " 'statement',\n",
       " 'reftel',\n",
       " 'information',\n",
       " 'available',\n",
       " 'such',\n",
       " 'volume',\n",
       " 'rice',\n",
       " 'exports',\n",
       " 'trade',\n",
       " 'communist',\n",
       " 'countries',\n",
       " 'facts',\n",
       " 'prc',\n",
       " 'receive',\n",
       " 'hard',\n",
       " 'currency',\n",
       " 'exports',\n",
       " 'trading',\n",
       " 'partners',\n",
       " 'receive',\n",
       " 'imports',\n",
       " 'otherwise',\n",
       " 'paid',\n",
       " 'hard',\n",
       " 'rice',\n",
       " 'exports',\n",
       " 'part',\n",
       " 'chinese',\n",
       " 'aid']"
      ]
     },
     "execution_count": 18,
     "metadata": {},
     "output_type": "execute_result"
    }
   ],
   "source": [
    "text_streamer.tokenizer.text_to_token_list(text)\n",
    "#text_streamer.tokenizer.text_to_counter(text)"
   ]
  },
  {
   "cell_type": "code",
   "execution_count": 19,
   "metadata": {},
   "outputs": [],
   "source": [
    "#lets look at a few methods\n",
    "token_stream = text_streamer.token_stream() # returns a generator function which yields a stream of tokens"
   ]
  },
  {
   "cell_type": "code",
   "execution_count": 20,
   "metadata": {},
   "outputs": [
    {
     "data": {
      "text/plain": [
       "['tehran',\n",
       " 'state',\n",
       " 'state',\n",
       " 'schedule',\n",
       " 'given',\n",
       " 'para',\n",
       " 'reftel',\n",
       " 'appear',\n",
       " 'account',\n",
       " 'great']"
      ]
     },
     "execution_count": 20,
     "metadata": {},
     "output_type": "execute_result"
    }
   ],
   "source": [
    "token_stream.__next__()[:10] # this is what our basic tokenizer returns (we are skipping stop words and numerics by default)"
   ]
  },
  {
   "cell_type": "markdown",
   "metadata": {},
   "source": [
    "text_streamer.doc_id # returns a list of retrieved doc ids etc \n"
   ]
  },
  {
   "cell_type": "code",
   "execution_count": 21,
   "metadata": {},
   "outputs": [],
   "source": [
    "#if you want to use another tokenizer it's easy\n",
    "import nltk\n",
    "nltk.word_tokenize(text)\n",
    "text_streamer_nltk = TextFileStreamer(text_base_path=RAW, file_type='*', \n",
    "                                      tokenizer_func=nltk.word_tokenize)"
   ]
  },
  {
   "cell_type": "code",
   "execution_count": 22,
   "metadata": {},
   "outputs": [],
   "source": [
    "stream_nltk = text_streamer_nltk.token_stream()"
   ]
  },
  {
   "cell_type": "code",
   "execution_count": 23,
   "metadata": {},
   "outputs": [
    {
     "data": {
      "text/plain": [
       "['SUMMARY',\n",
       " ':',\n",
       " '\\\\nIN',\n",
       " 'RECENT',\n",
       " 'PERIODIC',\n",
       " 'CONVERSATION',\n",
       " 'WITH',\n",
       " 'TREASURY',\n",
       " 'REPRESENTATIVE\\\\nCHEN',\n",
       " 'HUNG']"
      ]
     },
     "execution_count": 23,
     "metadata": {},
     "output_type": "execute_result"
    }
   ],
   "source": [
    "stream_nltk.__next__()[:10]"
   ]
  },
  {
   "cell_type": "markdown",
   "metadata": {},
   "source": [
    "#Vowpal Wabbit for LDA Topic Modeling\n",
    "* LDA = Latent Dirichlet Allocation \n",
    "    * treats each document as a bag of words \n",
    "    * a topic is chosen from a topic distribution $p(k)$ where $k=1, \\dots , K$\n",
    "    * a word is chosen from the k'th topic distribution $p(w|k)$ and thrown into the bag\n",
    "    * distrubutions $p(k)$ depends on $\\theta$ ~ $Dir(\\alpha)$ and $p(w|k)$ depends on $\\beta$ a $k\\times V$ matrix of word probabilties\n",
    "        * these 'latent' variables are chosen to maximize the probability of producing the observed documents, and in turn depend on user chosen parameters $\\alpha$ and $\\eta$ \n",
    "    * the model produces two important probability distributions:\n",
    "        * $p(w|k)$, the probability of $w$ bring generated by topic $k$ and\n",
    "        * $p(k|d)$, the probabilty of topic $k$ being used to generate a randomly chosen word from document $d$ \n",
    "    * these topic and word weights can be used to understand the semantic structure of the documents as well as generate document feature\n",
    "    * for more details about LDA topic modeling see the wonderful Blei, Ng, and Jordan [paper](http://www.cs.princeton.edu/~blei/papers/BleiNgJordan2003.pdf)\n",
    "* Vowpal Wabbit\n",
    "    * optimized (very fast) C++ library http://hunch.net/~vw/\n",
    "    * can find tutorials at https://github.com/JohnLangford/vowpal_wabbit/wiki/Tutorial and \n",
    "    https://github.com/columbia-applied-data-science/rosetta/blob/master/examples/vw_helpers.md\n",
    "    \n",
    "\n",
    "\n"
   ]
  },
  {
   "cell_type": "code",
   "execution_count": 24,
   "metadata": {},
   "outputs": [],
   "source": [
    "from rosetta.text import text_processors, filefilter, streamers, vw_helpers"
   ]
  },
  {
   "cell_type": "code",
   "execution_count": 25,
   "metadata": {},
   "outputs": [],
   "source": [
    "#create the VW format file \n",
    "my_tokenizer = text_processors.TokenizerBasic()\n",
    "stream = streamers.TextFileStreamer(text_base_path=RAW, tokenizer=my_tokenizer)\n",
    "stream.to_vw(sfile_path, n_jobs=-1, raise_on_bad_id=False)"
   ]
  },
  {
   "cell_type": "code",
   "execution_count": 26,
   "metadata": {},
   "outputs": [],
   "source": [
    "### somewhere here run on your command line (stick with 5 passes or so...)\n",
    "#cd data/processed\n",
    "#rm -f *cache\n",
    "#vw --lda 20 --cache_file doc_tokens.cache --passes 5 -p prediction.dat --readable_model topics.dat --bit_precision 16 --lda_D 975 --lda_rho 0.1 --lda_alpha 1 ../sparse/doc_tokens.vw\n"
   ]
  },
  {
   "cell_type": "code",
   "execution_count": 27,
   "metadata": {},
   "outputs": [],
   "source": [
    "#load the sparse file \n",
    "formatter = text_processors.VWFormatter()\n",
    "sff = text_processors.SFileFilter(formatter)\n",
    "sff.load_sfile(sfile_path)"
   ]
  },
  {
   "cell_type": "code",
   "execution_count": 28,
   "metadata": {},
   "outputs": [
    {
     "name": "stdout",
     "output_type": "stream",
     "text": [
      "Compactification done.  self.bit_precision_required = 9\n",
      "collisions = 0, vocab_size = 457\n",
      "All collisions resolved\n"
     ]
    }
   ],
   "source": [
    "#remove \"gaps\" in the sequence of numbers (ids)\n",
    "sff.compactify()\n",
    "sff.save(PROCESSED + '/sff_basic.pkl')"
   ]
  },
  {
   "cell_type": "code",
   "execution_count": 29,
   "metadata": {},
   "outputs": [
    {
     "data": {
      "text/html": [
       "<div>\n",
       "<style scoped>\n",
       "    .dataframe tbody tr th:only-of-type {\n",
       "        vertical-align: middle;\n",
       "    }\n",
       "\n",
       "    .dataframe tbody tr th {\n",
       "        vertical-align: top;\n",
       "    }\n",
       "\n",
       "    .dataframe thead th {\n",
       "        text-align: right;\n",
       "    }\n",
       "</style>\n",
       "<table border=\"1\" class=\"dataframe\">\n",
       "  <thead>\n",
       "    <tr style=\"text-align: right;\">\n",
       "      <th></th>\n",
       "      <th>token_score</th>\n",
       "      <th>doc_freq</th>\n",
       "      <th>doc_fraction</th>\n",
       "    </tr>\n",
       "    <tr>\n",
       "      <th>token</th>\n",
       "      <th></th>\n",
       "      <th></th>\n",
       "      <th></th>\n",
       "    </tr>\n",
       "  </thead>\n",
       "  <tbody>\n",
       "    <tr>\n",
       "      <th>countries</th>\n",
       "      <td>5.0</td>\n",
       "      <td>3</td>\n",
       "      <td>0.6</td>\n",
       "    </tr>\n",
       "    <tr>\n",
       "      <th>reftel</th>\n",
       "      <td>4.0</td>\n",
       "      <td>3</td>\n",
       "      <td>0.6</td>\n",
       "    </tr>\n",
       "    <tr>\n",
       "      <th>following</th>\n",
       "      <td>3.0</td>\n",
       "      <td>3</td>\n",
       "      <td>0.6</td>\n",
       "    </tr>\n",
       "    <tr>\n",
       "      <th>made</th>\n",
       "      <td>5.0</td>\n",
       "      <td>3</td>\n",
       "      <td>0.6</td>\n",
       "    </tr>\n",
       "    <tr>\n",
       "      <th>two</th>\n",
       "      <td>5.0</td>\n",
       "      <td>2</td>\n",
       "      <td>0.4</td>\n",
       "    </tr>\n",
       "    <tr>\n",
       "      <th>context</th>\n",
       "      <td>2.0</td>\n",
       "      <td>2</td>\n",
       "      <td>0.4</td>\n",
       "    </tr>\n",
       "    <tr>\n",
       "      <th>way</th>\n",
       "      <td>2.0</td>\n",
       "      <td>2</td>\n",
       "      <td>0.4</td>\n",
       "    </tr>\n",
       "    <tr>\n",
       "      <th>remarks</th>\n",
       "      <td>2.0</td>\n",
       "      <td>2</td>\n",
       "      <td>0.4</td>\n",
       "    </tr>\n",
       "    <tr>\n",
       "      <th>area</th>\n",
       "      <td>2.0</td>\n",
       "      <td>2</td>\n",
       "      <td>0.4</td>\n",
       "    </tr>\n",
       "    <tr>\n",
       "      <th>much</th>\n",
       "      <td>2.0</td>\n",
       "      <td>2</td>\n",
       "      <td>0.4</td>\n",
       "    </tr>\n",
       "  </tbody>\n",
       "</table>\n",
       "</div>"
      ],
      "text/plain": [
       "           token_score  doc_freq  doc_fraction\n",
       "token                                         \n",
       "countries          5.0         3           0.6\n",
       "reftel             4.0         3           0.6\n",
       "following          3.0         3           0.6\n",
       "made               5.0         3           0.6\n",
       "two                5.0         2           0.4\n",
       "context            2.0         2           0.4\n",
       "way                2.0         2           0.4\n",
       "remarks            2.0         2           0.4\n",
       "area               2.0         2           0.4\n",
       "much               2.0         2           0.4"
      ]
     },
     "execution_count": 29,
     "metadata": {},
     "output_type": "execute_result"
    }
   ],
   "source": [
    "sff.to_frame().sort_values(by='doc_fraction', ascending=False).head(10)"
   ]
  },
  {
   "cell_type": "markdown",
   "metadata": {},
   "source": [
    "## Look at LDA results"
   ]
  },
  {
   "cell_type": "code",
   "execution_count": 30,
   "metadata": {},
   "outputs": [],
   "source": [
    "#use the LDAResults class from rosetta to convert back to readable, python friendly formats\n",
    "lda = vw_helpers.LDAResults(PROCESSED + '/topics.dat', \n",
    "                            PROCESSED + '/prediction.dat', PROCESSED + '/sff_basic.pkl')"
   ]
  },
  {
   "cell_type": "code",
   "execution_count": 31,
   "metadata": {},
   "outputs": [
    {
     "data": {
      "text/html": [
       "<div>\n",
       "<style scoped>\n",
       "    .dataframe tbody tr th:only-of-type {\n",
       "        vertical-align: middle;\n",
       "    }\n",
       "\n",
       "    .dataframe tbody tr th {\n",
       "        vertical-align: top;\n",
       "    }\n",
       "\n",
       "    .dataframe thead th {\n",
       "        text-align: right;\n",
       "    }\n",
       "</style>\n",
       "<table border=\"1\" class=\"dataframe\">\n",
       "  <thead>\n",
       "    <tr style=\"text-align: right;\">\n",
       "      <th></th>\n",
       "      <th>token_score</th>\n",
       "      <th>doc_freq</th>\n",
       "      <th>doc_fraction</th>\n",
       "    </tr>\n",
       "    <tr>\n",
       "      <th>token</th>\n",
       "      <th></th>\n",
       "      <th></th>\n",
       "      <th></th>\n",
       "    </tr>\n",
       "  </thead>\n",
       "  <tbody>\n",
       "    <tr>\n",
       "      <th>peace</th>\n",
       "      <td>1.0</td>\n",
       "      <td>1</td>\n",
       "      <td>0.2</td>\n",
       "    </tr>\n",
       "    <tr>\n",
       "      <th>chinese</th>\n",
       "      <td>4.0</td>\n",
       "      <td>1</td>\n",
       "      <td>0.2</td>\n",
       "    </tr>\n",
       "    <tr>\n",
       "      <th>re</th>\n",
       "      <td>1.0</td>\n",
       "      <td>1</td>\n",
       "      <td>0.2</td>\n",
       "    </tr>\n",
       "    <tr>\n",
       "      <th>los</th>\n",
       "      <td>1.0</td>\n",
       "      <td>1</td>\n",
       "      <td>0.2</td>\n",
       "    </tr>\n",
       "    <tr>\n",
       "      <th>officials</th>\n",
       "      <td>1.0</td>\n",
       "      <td>1</td>\n",
       "      <td>0.2</td>\n",
       "    </tr>\n",
       "    <tr>\n",
       "      <th>jova</th>\n",
       "      <td>2.0</td>\n",
       "      <td>1</td>\n",
       "      <td>0.2</td>\n",
       "    </tr>\n",
       "    <tr>\n",
       "      <th>regard</th>\n",
       "      <td>1.0</td>\n",
       "      <td>1</td>\n",
       "      <td>0.2</td>\n",
       "    </tr>\n",
       "    <tr>\n",
       "      <th>shanghai</th>\n",
       "      <td>1.0</td>\n",
       "      <td>1</td>\n",
       "      <td>0.2</td>\n",
       "    </tr>\n",
       "    <tr>\n",
       "      <th>package</th>\n",
       "      <td>1.0</td>\n",
       "      <td>1</td>\n",
       "      <td>0.2</td>\n",
       "    </tr>\n",
       "    <tr>\n",
       "      <th>hung</th>\n",
       "      <td>1.0</td>\n",
       "      <td>1</td>\n",
       "      <td>0.2</td>\n",
       "    </tr>\n",
       "  </tbody>\n",
       "</table>\n",
       "</div>"
      ],
      "text/plain": [
       "           token_score  doc_freq  doc_fraction\n",
       "token                                         \n",
       "peace              1.0         1           0.2\n",
       "chinese            4.0         1           0.2\n",
       "re                 1.0         1           0.2\n",
       "los                1.0         1           0.2\n",
       "officials          1.0         1           0.2\n",
       "jova               2.0         1           0.2\n",
       "regard             1.0         1           0.2\n",
       "shanghai           1.0         1           0.2\n",
       "package            1.0         1           0.2\n",
       "hung               1.0         1           0.2"
      ]
     },
     "execution_count": 31,
     "metadata": {},
     "output_type": "execute_result"
    }
   ],
   "source": [
    "#look at some of the words\n",
    "topic_words = lda.pr_token_g_topic.loc[:,'topic_12'].sort_values(ascending=False).index[:10]\n",
    "lda.sfile_frame.loc[topic_words]"
   ]
  },
  {
   "cell_type": "code",
   "execution_count": 32,
   "metadata": {},
   "outputs": [
    {
     "data": {
      "text/plain": [
       "token\n",
       "tehran        0.002301\n",
       "state         0.002054\n",
       "schedule      0.002065\n",
       "given         0.002091\n",
       "para          0.002050\n",
       "reftel        0.002059\n",
       "appear        0.002076\n",
       "account       0.002047\n",
       "great         0.002055\n",
       "difficulty    0.002067\n",
       "Name: topic_00, dtype: float64"
      ]
     },
     "execution_count": 32,
     "metadata": {},
     "output_type": "execute_result"
    }
   ],
   "source": [
    "#look at the the first topic\n",
    "a_topic = lda.pr_token_g_topic.T.loc['topic_00'].copy()\n",
    "a_topic.sort_values(ascending=False)\n",
    "a_topic[:10]"
   ]
  },
  {
   "cell_type": "code",
   "execution_count": 33,
   "metadata": {},
   "outputs": [
    {
     "data": {
      "text/plain": [
       "<matplotlib.axes._subplots.AxesSubplot at 0x11935dfd0>"
      ]
     },
     "execution_count": 33,
     "metadata": {},
     "output_type": "execute_result"
    }
   ],
   "source": [
    "##look at first document's topic weights\n",
    "lda.pr_topic_g_doc.T.iloc[[0]].plot(kind='bar', figsize=(12,7),\n",
    "                                   title = 'First Document Topic Weights')"
   ]
  },
  {
   "cell_type": "code",
   "execution_count": 34,
   "metadata": {
    "scrolled": true
   },
   "outputs": [
    {
     "data": {
      "text/plain": [
       "<matplotlib.axes._subplots.AxesSubplot at 0x1a220a15f8>"
      ]
     },
     "execution_count": 34,
     "metadata": {},
     "output_type": "execute_result"
    },
    {
     "data": {
      "image/png": "[encoded data removed]",
      "text/plain": [
       "<Figure size 864x504 with 1 Axes>"
      ]
     },
     "metadata": {},
     "output_type": "display_data"
    }
   ],
   "source": [
    "#or at the average topic probabilties \n",
    "import random\n",
    "r = lambda: random.randint(0,255)\n",
    "my_colors = ['#%02X%02X%02X' % (r(),r(),r()) for i in range(20)]\n",
    "#my_colors = 'rgbkymc'\n",
    "lda.pr_topic_g_doc.mean(axis=1).plot(kind='bar', figsize=(12,7), color=my_colors,\n",
    "                                     title='Average Topic Probabilities')"
   ]
  },
  {
   "cell_type": "markdown",
   "metadata": {},
   "source": [
    "##You can grab a copy of this [notebook](https://github.com/columbia-applied-data-science/rosetta/tree/master/notebooks) in the [Rosetta repo](https://github.com/columbia-applied-data-science/rosetta). "
   ]
  },
  {
   "cell_type": "markdown",
   "metadata": {},
   "source": [
    "##[Rosetta](https://github.com/columbia-applied-data-science/rosetta)\n",
    "    *Install, fork, submnit issues, contribute!\n"
   ]
  },
  {
   "cell_type": "markdown",
   "metadata": {},
   "source": [
    "#Have fun!\n"
   ]
  },
  {
   "cell_type": "markdown",
   "metadata": {},
   "source": [
    "#This notebook was created by Daniel Krasner and updated for Python 3 by Clara Suong."
   ]
  }
 ],
 "metadata": {
  "kernelspec": {
   "display_name": "Python 3",
   "language": "python",
   "name": "python3"
  },
  "language_info": {
   "codemirror_mode": {
    "name": "ipython",
    "version": 3
   },
   "file_extension": ".py",
   "mimetype": "text/x-python",
   "name": "python",
   "nbconvert_exporter": "python",
   "pygments_lexer": "ipython3",
   "version": "3.6.5"
  }
 },
 "nbformat": 4,
 "nbformat_minor": 1
}
